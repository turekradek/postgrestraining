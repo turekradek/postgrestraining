{
 "cells": [
  {
   "cell_type": "code",
   "execution_count": null,
   "metadata": {},
   "outputs": [
    {
     "ename": "",
     "evalue": "",
     "output_type": "error",
     "traceback": [
      "\u001b[1;31mFailed to connect to the remote Jupyter Server 'http://127.0.0.1:8888/'. Verify the server is running and reachable. (Failed to connect to the remote Jupyter Server 'http://127.0.0.1:8888/'. Verify the server is running and reachable. (Forbidden).)."
     ]
    }
   ],
   "source": [
    "import sqlalchemy\n",
    "from sqlalchemy import create_engine\n",
    "\n",
    "# # Replace with your own database credentials\n",
    "# DATABASE_TYPE = 'postgresql'\n",
    "# DBAPI = 'psycopg2'\n",
    "# ENDPOINT = 'localhost'  # Change it to your database endpoint\n",
    "# USER = 'your_username'\n",
    "# PASSWORD = 'your_password'\n",
    "# PORT = 5432  # Default PostgreSQL port\n",
    "# DATABASE = 'your_database'\n",
    "\n",
    "# # Create the database engine\n",
    "# engine = create_engine(f\"{DATABASE_TYPE}+{DBAPI}://{USER}:{PASSWORD}@{ENDPOINT}:{PORT}/{DATABASE}\")"
   ]
  }
 ],
 "metadata": {
  "kernelspec": {
   "display_name": "poetry-env",
   "language": "python",
   "name": "poetry-env"
  }
 },
 "nbformat": 4,
 "nbformat_minor": 2
}
